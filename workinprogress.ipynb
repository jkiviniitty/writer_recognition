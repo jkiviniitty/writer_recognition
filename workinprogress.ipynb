{
 "cells": [
  {
   "cell_type": "markdown",
   "metadata": {
    "colab_type": "text",
    "id": "FOICGEz6jN_e"
   },
   "source": [
    "# IAM Writer Recognition"
   ]
  },
  {
   "cell_type": "markdown",
   "metadata": {},
   "source": [
    "This notebook is a part of my thesis which theme is offline writer identification. I've researched multiple papers concerning different models and techniques for identifying a writer of a text based on their writing style. We'll be using IAM database which has aproximately 650 unique writers. [IAM Handwriting Database](http://www.fki.inf.unibe.ch/databases/iam-handwriting-database/download-the-iam-handwriting-database)."
   ]
  },
  {
   "cell_type": "markdown",
   "metadata": {},
   "source": [
    "First step is to pair each sentence with its respective writer. Crosschecking with ``forms.txt`` file."
   ]
  },
  {
   "cell_type": "code",
   "execution_count": 2,
   "metadata": {
    "colab": {},
    "colab_type": "code",
    "id": "2zHuGCQFjN_l"
   },
   "outputs": [],
   "source": [
    "# This part creates a dictionary \n",
    "# and stores pairs of form ID and writer ID \n",
    "\n",
    "import os\n",
    "from itertools import islice\n",
    "\n",
    "formWriter = {}\n",
    "formsFilePath = \"../data/forms.txt\"\n",
    "with open(formsFile_Path) as f:\n",
    "    for line in islice(f, 16, None):\n",
    "        lineList = line.split(' ')\n",
    "        formId = lineList[0]\n",
    "        writer = lineList[1]\n",
    "        formWriter[formId] = writer"
   ]
  },
  {
   "cell_type": "markdown",
   "metadata": {
    "colab_type": "text",
    "id": "TGIUdr5cjN_p"
   },
   "source": [
    "As jupyter notebooks are a visual medium, here's some content of the dictionary \"formWriter\" displayed. The dictionary contains pairs of form ID and writer ID."
   ]
  },
  {
   "cell_type": "code",
   "execution_count": 3,
   "metadata": {
    "colab": {
     "base_uri": "https://localhost:8080/",
     "height": 102
    },
    "colab_type": "code",
    "id": "FKJ6dsAGjN_q",
    "outputId": "cb98eba3-137f-4573-cd9f-6d172ba7d6cd"
   },
   "outputs": [
    {
     "data": {
      "text/plain": [
       "[('a01-000u', '000'),\n",
       " ('a01-000x', '001'),\n",
       " ('a01-003', '002'),\n",
       " ('a01-003u', '000'),\n",
       " ('a01-003x', '003')]"
      ]
     },
     "execution_count": 3,
     "metadata": {},
     "output_type": "execute_result"
    }
   ],
   "source": [
    "list(formWriter.items())[0:5]"
   ]
  },
  {
   "cell_type": "markdown",
   "metadata": {
    "colab_type": "text",
    "id": "ZdHVHlU_jN_t"
   },
   "source": [
    "As computing power is limited even with 16gb ram and 4 core virtual machine, I will filter from the whole dataset the 50 most active writers out of 221 in this dataset."
   ]
  },
  {
   "cell_type": "code",
   "execution_count": 4,
   "metadata": {
    "colab": {},
    "colab_type": "code",
    "id": "B4le_mL3jN_t"
   },
   "outputs": [],
   "source": [
    "# Selection of writers with most content. In this case top 50 writers.\n",
    "\n",
    "from collections import Counter\n",
    "\n",
    "topWriters = []\n",
    "numWriters = 50\n",
    "writersCounter = Counter(formWriter.values())\n",
    "for writerId,_ in writersCounter.most_common(numWriters):\n",
    "    topWriters.append(writerId)"
   ]
  },
  {
   "cell_type": "markdown",
   "metadata": {
    "colab_type": "text",
    "id": "X7DKQ0VijN_w"
   },
   "source": [
    "Check if the topWriters array got filled with correct writer IDs"
   ]
  },
  {
   "cell_type": "code",
   "execution_count": 5,
   "metadata": {
    "colab": {
     "base_uri": "https://localhost:8080/",
     "height": 34
    },
    "colab_type": "code",
    "id": "5mhwA0LrjN_x",
    "outputId": "7c141aa2-d171-499f-b1fd-738c182cdc83"
   },
   "outputs": [
    {
     "name": "stdout",
     "output_type": "stream",
     "text": [
      "['000', '150', '151', '152', '153']\n"
     ]
    }
   ],
   "source": [
    "print(topWriters[0:5])"
   ]
  },
  {
   "cell_type": "markdown",
   "metadata": {
    "colab_type": "text",
    "id": "HwW7ts-mjN_0"
   },
   "source": [
    "Filter the dataset so that only the sentence IDs that correspond to the \"topWriters\" array writer IDs are left."
   ]
  },
  {
   "cell_type": "code",
   "execution_count": 6,
   "metadata": {
    "colab": {},
    "colab_type": "code",
    "id": "MeRZBANbjN_0"
   },
   "outputs": [],
   "source": [
    "topForms = []\n",
    "for formId, authorId in formWriter.items():\n",
    "    if authorId in topWriters:\n",
    "        topForms.append(formId)"
   ]
  },
  {
   "cell_type": "markdown",
   "metadata": {
    "colab_type": "text",
    "id": "5HDd4y12jN_4"
   },
   "source": [
    "Here are couple of the sentence IDs after filtering:"
   ]
  },
  {
   "cell_type": "code",
   "execution_count": 7,
   "metadata": {
    "colab": {
     "base_uri": "https://localhost:8080/",
     "height": 34
    },
    "colab_type": "code",
    "id": "Uu5W_aXUjN_6",
    "outputId": "321e8045-0560-454a-80fe-479272f9f369"
   },
   "outputs": [
    {
     "name": "stdout",
     "output_type": "stream",
     "text": [
      "['a01-000u', 'a01-003u', 'a01-007u', 'a01-011u', 'a01-014u']\n"
     ]
    }
   ],
   "source": [
    "print(topForms[0:5])"
   ]
  },
  {
   "cell_type": "markdown",
   "metadata": {
    "colab_type": "text",
    "id": "be_0siyXjN_-"
   },
   "source": [
    "Now we have a \"topForms\" array that has listed every sentence ID we need for this project. We need a new container for the new list of sentences for easier handling later on. Let's create one!"
   ]
  },
  {
   "cell_type": "code",
   "execution_count": 8,
   "metadata": {
    "colab": {},
    "colab_type": "code",
    "id": "qQBL7IeajN__"
   },
   "outputs": [],
   "source": [
    "import os\n",
    "import glob\n",
    "import shutil\n",
    "\n",
    "# Temporal directory for top sentences\n",
    "# NOTE: This snippet assumes it's been executed already if the \"temp_sentences\" folder exists\n",
    "# If for some reason you want to run the \"copyfile\" half of this snippet, remove that folder.\n",
    "tempSentencesPath = \"../data/temp_sentences\"\n",
    "if not os.path.exists(tempSentencesPath):\n",
    "    os.makedirs(tempSentencesPath)\n",
    "    \n",
    "    # NOTE: Place the original sentences folder according to the path here\n",
    "    # Copies files according to \"topForms\" array\n",
    "    originalSentencesPath = \"../data/sentences/**/**/*.png\"\n",
    "    for filePath in glob.glob(originalSentencesPath):\n",
    "        imageName = filePath.split('/')[-1]  \n",
    "        fileName, _ = os.path.splitext(imageName)\n",
    "        formId = '-'.join(fileName.split('-')[0:2])\n",
    "        if formId in topForms:\n",
    "            shutil.copy2(filePath, tempSentencesPath + \"/\" + imageName)"
   ]
  },
  {
   "cell_type": "markdown",
   "metadata": {
    "colab_type": "text",
    "id": "hSSAlzWVjOAD"
   },
   "source": [
    "Create \"imgFiles\" array of the temp folder sentence files and another \"imgTargets\" array for holding the top 50 writer IDs."
   ]
  },
  {
   "cell_type": "code",
   "execution_count": 9,
   "metadata": {
    "colab": {},
    "colab_type": "code",
    "id": "mfzwf2BKjOAH"
   },
   "outputs": [],
   "source": [
    "import numpy as np\n",
    "\n",
    "imgFiles = np.zeros((0), dtype=np.str)\n",
    "imgTargets = np.zeros((0), dtype=np.str)\n",
    "pathToFiles = os.path.join(tempSentencesPath, '*')\n",
    "for filePath in glob.glob(pathToFiles):\n",
    "    imgFiles = np.append(imgFiles, filePath)\n",
    "    fileName, _ = os.path.splitext(filePath.split('/')[-1]  )\n",
    "    formId = '-'.join(fileName.split('-')[0:2])\n",
    "    for key in formWriter:\n",
    "        if key == formId:\n",
    "            imgTargets = np.append(imgTargets, formWriter[form_id])"
   ]
  },
  {
   "cell_type": "markdown",
   "metadata": {
    "colab_type": "text",
    "id": "Jb6AwFvIjOAP"
   },
   "source": [
    "Visualize the selected filenames."
   ]
  },
  {
   "cell_type": "code",
   "execution_count": 10,
   "metadata": {
    "colab": {
     "base_uri": "https://localhost:8080/",
     "height": 119
    },
    "colab_type": "code",
    "id": "KI9InV7sjOAQ",
    "outputId": "42ad7fa7-b577-480a-c626-6cf0fe8b33f5"
   },
   "outputs": [
    {
     "name": "stdout",
     "output_type": "stream",
     "text": [
      "['../data/temp_sentences/g06-026e-s02-00.png'\n",
      " '../data/temp_sentences/a01-058u-s00-01.png'\n",
      " '../data/temp_sentences/n02-127-s00-01.png'\n",
      " '../data/temp_sentences/b06-000-s00-02.png'\n",
      " '../data/temp_sentences/m06-083-s03-00.png']\n"
     ]
    }
   ],
   "source": [
    "print(imgFiles[0:5])"
   ]
  },
  {
   "cell_type": "markdown",
   "metadata": {
    "colab_type": "text",
    "id": "WKiDRakVjOAS"
   },
   "source": [
    "A good time to check how matplotlib works with the copied sentence files."
   ]
  },
  {
   "cell_type": "code",
   "execution_count": 11,
   "metadata": {
    "colab": {
     "base_uri": "https://localhost:8080/",
     "height": 182
    },
    "colab_type": "code",
    "id": "J1m2JtZyjOAT",
    "outputId": "65742ceb-8bbb-489a-846e-c07deaea435d"
   },
   "outputs": [
    {
     "data": {
      "image/png": "[encoded data removed]",
      "text/plain": [
       "<Figure size 720x720 with 1 Axes>"
      ]
     },
     "metadata": {
      "needs_background": "light"
     },
     "output_type": "display_data"
    },
    {
     "data": {
      "image/png": "[encoded data removed]",
      "text/plain": [
       "<Figure size 720x720 with 1 Axes>"
      ]
     },
     "metadata": {
      "needs_background": "light"
     },
     "output_type": "display_data"
    }
   ],
   "source": [
    "import matplotlib.pyplot as plt\n",
    "import matplotlib.image as mpimg\n",
    "%matplotlib inline\n",
    "\n",
    "for fileName in imgFiles[:2]:\n",
    "    img = mpimg.imread(fileName)\n",
    "    plt.figure(figsize = (10,10))\n",
    "    plt.imshow(img, cmap ='gray')"
   ]
  }
 ],
 "metadata": {
  "accelerator": "GPU",
  "colab": {
   "name": "solution.ipynb",
   "provenance": [],
   "toc_visible": true,
   "version": "0.3.2"
  },
  "kernelspec": {
   "display_name": "Python 3",
   "language": "python",
   "name": "python3"
  },
  "language_info": {
   "codemirror_mode": {
    "name": "ipython",
    "version": 3
   },
   "file_extension": ".py",
   "mimetype": "text/x-python",
   "name": "python",
   "nbconvert_exporter": "python",
   "pygments_lexer": "ipython3",
   "version": "3.7.1"
  }
 },
 "nbformat": 4,
 "nbformat_minor": 1
}
