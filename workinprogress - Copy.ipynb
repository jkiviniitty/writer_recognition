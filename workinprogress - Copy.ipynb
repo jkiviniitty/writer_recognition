{
 "cells": [
  {
   "cell_type": "markdown",
   "metadata": {
    "colab_type": "text",
    "id": "FOICGEz6jN_e"
   },
   "source": [
    "# Writer Identification"
   ]
  },
  {
   "cell_type": "markdown",
   "metadata": {},
   "source": [
    "This notebook is a part of my thesis which theme is offline writer identification. I've researched multiple papers concerning different models and techniques for identifying a writer of a text based on their writing style. We'll be using IAM database which has aproximately 650 unique writers. [IAM Handwriting Database](http://www.fki.inf.unibe.ch/databases/iam-handwriting-database/download-the-iam-handwriting-database)."
   ]
  },
  {
   "cell_type": "markdown",
   "metadata": {},
   "source": [
    "# Manipulating the dataset"
   ]
  },
  {
   "cell_type": "markdown",
   "metadata": {},
   "source": [
    "First step is to pair each sentence with its respective writer. Crosschecking with ``forms.txt`` file."
   ]
  },
  {
   "cell_type": "code",
   "execution_count": 2,
   "metadata": {
    "colab": {},
    "colab_type": "code",
    "id": "2zHuGCQFjN_l"
   },
   "outputs": [],
   "source": [
    "# This part creates a dictionary \n",
    "# and stores pairs of form ID and writer ID \n",
    "\n",
    "import os\n",
    "from itertools import islice\n",
    "\n",
    "formWriter = {}\n",
    "formsFilePath = \"../data/forms.txt\"\n",
    "with open(formsFile_Path) as f:\n",
    "    for line in islice(f, 16, None):\n",
    "        lineList = line.split(' ')\n",
    "        formId = lineList[0]\n",
    "        writer = lineList[1]\n",
    "        formWriter[formId] = writer"
   ]
  },
  {
   "cell_type": "markdown",
   "metadata": {
    "colab_type": "text",
    "id": "TGIUdr5cjN_p"
   },
   "source": [
    "As jupyter notebooks are a visual medium, here's some content of the dictionary \"formWriter\" displayed. The dictionary contains pairs of form ID and writer ID."
   ]
  },
  {
   "cell_type": "code",
   "execution_count": 3,
   "metadata": {
    "colab": {
     "base_uri": "https://localhost:8080/",
     "height": 102
    },
    "colab_type": "code",
    "id": "FKJ6dsAGjN_q",
    "outputId": "cb98eba3-137f-4573-cd9f-6d172ba7d6cd"
   },
   "outputs": [
    {
     "data": {
      "text/plain": [
       "[('a01-000u', '000'),\n",
       " ('a01-000x', '001'),\n",
       " ('a01-003', '002'),\n",
       " ('a01-003u', '000'),\n",
       " ('a01-003x', '003')]"
      ]
     },
     "execution_count": 3,
     "metadata": {},
     "output_type": "execute_result"
    }
   ],
   "source": [
    "list(formWriter.items())[0:5]"
   ]
  },
  {
   "cell_type": "markdown",
   "metadata": {
    "colab_type": "text",
    "id": "ZdHVHlU_jN_t"
   },
   "source": [
    "As computing power is limited even with 16gb ram and 4 core virtual machine, I will filter from the whole dataset the 50 most active writers out of 221 in this dataset."
   ]
  },
  {
   "cell_type": "code",
   "execution_count": 4,
   "metadata": {
    "colab": {},
    "colab_type": "code",
    "id": "B4le_mL3jN_t"
   },
   "outputs": [],
   "source": [
    "# Selection of writers with most content. In this case top 50 writers.\n",
    "\n",
    "from collections import Counter\n",
    "\n",
    "topWriters = []\n",
    "numWriters = 50\n",
    "writersCounter = Counter(formWriter.values())\n",
    "for writerId,_ in writersCounter.most_common(numWriters):\n",
    "    topWriters.append(writerId)"
   ]
  },
  {
   "cell_type": "markdown",
   "metadata": {
    "colab_type": "text",
    "id": "X7DKQ0VijN_w"
   },
   "source": [
    "Check if the topWriters array got filled with correct writer IDs"
   ]
  },
  {
   "cell_type": "code",
   "execution_count": 5,
   "metadata": {
    "colab": {
     "base_uri": "https://localhost:8080/",
     "height": 34
    },
    "colab_type": "code",
    "id": "5mhwA0LrjN_x",
    "outputId": "7c141aa2-d171-499f-b1fd-738c182cdc83"
   },
   "outputs": [
    {
     "name": "stdout",
     "output_type": "stream",
     "text": [
      "['000', '150', '151', '152', '153']\n"
     ]
    }
   ],
   "source": [
    "print(topWriters[0:5])"
   ]
  },
  {
   "cell_type": "markdown",
   "metadata": {
    "colab_type": "text",
    "id": "HwW7ts-mjN_0"
   },
   "source": [
    "Filter the dataset so that only the sentence IDs that correspond to the \"topWriters\" array writer IDs are left."
   ]
  },
  {
   "cell_type": "code",
   "execution_count": 6,
   "metadata": {
    "colab": {},
    "colab_type": "code",
    "id": "MeRZBANbjN_0"
   },
   "outputs": [],
   "source": [
    "topForms = []\n",
    "for formId, authorId in formWriter.items():\n",
    "    if authorId in topWriters:\n",
    "        topForms.append(formId)"
   ]
  },
  {
   "cell_type": "markdown",
   "metadata": {
    "colab_type": "text",
    "id": "5HDd4y12jN_4"
   },
   "source": [
    "Here are couple of the sentence IDs after filtering:"
   ]
  },
  {
   "cell_type": "code",
   "execution_count": 7,
   "metadata": {
    "colab": {
     "base_uri": "https://localhost:8080/",
     "height": 34
    },
    "colab_type": "code",
    "id": "Uu5W_aXUjN_6",
    "outputId": "321e8045-0560-454a-80fe-479272f9f369"
   },
   "outputs": [
    {
     "name": "stdout",
     "output_type": "stream",
     "text": [
      "['a01-000u', 'a01-003u', 'a01-007u', 'a01-011u', 'a01-014u']\n"
     ]
    }
   ],
   "source": [
    "print(topForms[0:5])"
   ]
  },
  {
   "cell_type": "markdown",
   "metadata": {
    "colab_type": "text",
    "id": "be_0siyXjN_-"
   },
   "source": [
    "Now we have a \"topForms\" array that has listed every sentence ID we need for this project. We need a new container for the new list of sentences for easier handling later on. Let's create one!"
   ]
  },
  {
   "cell_type": "code",
   "execution_count": 8,
   "metadata": {
    "colab": {},
    "colab_type": "code",
    "id": "qQBL7IeajN__"
   },
   "outputs": [],
   "source": [
    "import os\n",
    "import glob\n",
    "import shutil\n",
    "\n",
    "# Temporal directory for top sentences\n",
    "# NOTE: This snippet assumes it's been executed already if the \"temp_sentences\" folder exists\n",
    "# If for some reason you want to run the \"copyfile\" half of this snippet, remove that folder.\n",
    "tempSentencesPath = \"../data/temp_sentences\"\n",
    "if not os.path.exists(tempSentencesPath):\n",
    "    os.makedirs(tempSentencesPath)\n",
    "    \n",
    "    # NOTE: Place the original sentences folder according to the path here\n",
    "    # Copies files according to \"topForms\" array\n",
    "    originalSentencesPath = \"../data/sentences/**/**/*.png\"\n",
    "    for filePath in glob.glob(originalSentencesPath):\n",
    "        imageName = filePath.split('/')[-1]  \n",
    "        fileName, _ = os.path.splitext(imageName)\n",
    "        formId = '-'.join(fileName.split('-')[0:2])\n",
    "        if formId in topForms:\n",
    "            shutil.copy2(filePath, tempSentencesPath + \"/\" + imageName)"
   ]
  },
  {
   "cell_type": "markdown",
   "metadata": {
    "colab_type": "text",
    "id": "hSSAlzWVjOAD"
   },
   "source": [
    "Create \"imgFiles\" array of the temp folder sentence files and another \"imgLabels\" array for holding the top 50 writer IDs."
   ]
  },
  {
   "cell_type": "code",
   "execution_count": 9,
   "metadata": {
    "colab": {},
    "colab_type": "code",
    "id": "mfzwf2BKjOAH"
   },
   "outputs": [],
   "source": [
    "import numpy as np\n",
    "\n",
    "imgFiles = np.zeros((0), dtype=np.str)\n",
    "imgLabels = np.zeros((0), dtype=np.str)\n",
    "pathToFiles = os.path.join(tempSentencesPath, '*')\n",
    "for filePath in glob.glob(pathToFiles):\n",
    "    imgFiles = np.append(imgFiles, filePath)\n",
    "    fileName, _ = os.path.splitext(filePath.split('/')[-1]  )\n",
    "    formId = '-'.join(fileName.split('-')[0:2])\n",
    "    for key in formWriter:\n",
    "        if key == formId:\n",
    "            imgLabels = np.append(imgLabels, formWriter[form_id])"
   ]
  },
  {
   "cell_type": "markdown",
   "metadata": {
    "colab_type": "text",
    "id": "Jb6AwFvIjOAP"
   },
   "source": [
    "Visualize the selected filenames."
   ]
  },
  {
   "cell_type": "code",
   "execution_count": 10,
   "metadata": {
    "colab": {
     "base_uri": "https://localhost:8080/",
     "height": 119
    },
    "colab_type": "code",
    "id": "KI9InV7sjOAQ",
    "outputId": "42ad7fa7-b577-480a-c626-6cf0fe8b33f5"
   },
   "outputs": [
    {
     "name": "stdout",
     "output_type": "stream",
     "text": [
      "['../data/temp_sentences/g06-026e-s02-00.png'\n",
      " '../data/temp_sentences/a01-058u-s00-01.png'\n",
      " '../data/temp_sentences/n02-127-s00-01.png'\n",
      " '../data/temp_sentences/b06-000-s00-02.png'\n",
      " '../data/temp_sentences/m06-083-s03-00.png']\n"
     ]
    }
   ],
   "source": [
    "print(imgFiles[0:5])"
   ]
  },
  {
   "cell_type": "markdown",
   "metadata": {
    "colab_type": "text",
    "id": "WKiDRakVjOAS"
   },
   "source": [
    "A good time to check how matplotlib works with the copied sentence files."
   ]
  },
  {
   "cell_type": "code",
   "execution_count": 11,
   "metadata": {
    "colab": {
     "base_uri": "https://localhost:8080/",
     "height": 182
    },
    "colab_type": "code",
    "id": "J1m2JtZyjOAT",
    "outputId": "65742ceb-8bbb-489a-846e-c07deaea435d"
   },
   "outputs": [
    {
     "data": {
      "image/png": "[encoded data removed]",
      "text/plain": [
       "<Figure size 720x720 with 1 Axes>"
      ]
     },
     "metadata": {
      "needs_background": "light"
     },
     "output_type": "display_data"
    },
    {
     "data": {
      "image/png": "[encoded data removed]",
      "text/plain": [
       "<Figure size 720x720 with 1 Axes>"
      ]
     },
     "metadata": {
      "needs_background": "light"
     },
     "output_type": "display_data"
    }
   ],
   "source": [
    "import matplotlib.pyplot as plt\n",
    "import matplotlib.image as mpimg\n",
    "%matplotlib inline\n",
    "\n",
    "for fileName in imgFiles[:2]:\n",
    "    img = mpimg.imread(fileName)\n",
    "    plt.figure(figsize = (10,10))\n",
    "    plt.imshow(img, cmap ='gray')"
   ]
  },
  {
   "cell_type": "markdown",
   "metadata": {},
   "source": [
    "# Encoding writer names"
   ]
  },
  {
   "cell_type": "markdown",
   "metadata": {
    "colab_type": "text",
    "id": "5yYh5_3vjOAV"
   },
   "source": [
    "As neural networks are inherently stupid they will try to figure nonexistant relations between the writer ID numbers, so the numbers need to be processed from strings into number order."
   ]
  },
  {
   "cell_type": "code",
   "execution_count": 12,
   "metadata": {
    "colab": {
     "base_uri": "https://localhost:8080/",
     "height": 51
    },
    "colab_type": "code",
    "id": "y9A4WbqPjOAV",
    "outputId": "d1f8fcc5-8127-4231-b7cc-690c10dea186"
   },
   "outputs": [
    {
     "name": "stdout",
     "output_type": "stream",
     "text": [
      "Writer ID        :  ['336' '000' '315' '123' '552' '634' '347']\n",
      "Encoded writer ID:  [26  0 21  6 43 46 37]\n"
     ]
    }
   ],
   "source": [
    "from sklearn.preprocessing import LabelEncoder\n",
    "\n",
    "encoder = LabelEncoder()\n",
    "encoder.fit(imgLabels)\n",
    "encodedImgLabels = encoder.transform(imgLabels)\n",
    "\n",
    "print(\"Writer ID        : \", imgLabels[:7])\n",
    "print(\"Encoded writer ID: \", encodedImgLabels[:7])"
   ]
  },
  {
   "cell_type": "markdown",
   "metadata": {},
   "source": [
    "# Divide dataset"
   ]
  },
  {
   "cell_type": "markdown",
   "metadata": {
    "colab_type": "text",
    "id": "FPMqJtNnjOAZ"
   },
   "source": [
    "This selected dataset need to be divided into training, validation and testing sets\n",
    "\n",
    "`Training set` is the data used to fit the model. It is the actual data set that is used to train the model. (and by training is meant figuring out the weights and biases) The model sees and learns from this data.\n",
    "\n",
    "`Validation set` is used to have unbiased evaluation of a model while tuning the model. The model sees the data and gives accuracy of the prediction, but the model doesn't learn from it.\n",
    "\n",
    "`Test set` is like validation set, but used only after all the training is done. Test set doesn't affect the model in any way. Test set can be used to evaluate multiple different models (in a competitive sense perhaps). Usually the test set is also curated to include all different categories of the larger data set. In our case the test set is only random sample from the data set.\n",
    "\n",
    "There are methods of calculating most efficient ratios between the sizes of training, validation and testing sets. \n",
    "\n",
    "I will settle for now to approximately dividing with 4:1:1 ratio as training dataset needs to be the biggest."
   ]
  },
  {
   "cell_type": "code",
   "execution_count": 16,
   "metadata": {
    "colab": {
     "base_uri": "https://localhost:8080/",
     "height": 51
    },
    "colab_type": "code",
    "id": "SqFgVvjEjOAZ",
    "outputId": "5d069de7-a41a-4180-8106-42d213f4cd69"
   },
   "outputs": [
    {
     "name": "stdout",
     "output_type": "stream",
     "text": [
      "(3239,) (809,) (809,)\n",
      "(3239,) (809,) (809,)\n"
     ]
    }
   ],
   "source": [
    "from sklearn.model_selection import train_test_split\n",
    "\n",
    "# Split dataset into training trainFiles & trainLabels \n",
    "# and test sets remFiles & remLabels\n",
    "trainFiles, remFiles, trainLabels, remLabels = train_test_split(\n",
    "    imgFiles, encodedImgLabels, test_size=0.66, shuffle = True)\n",
    "\n",
    "# Further split training set into training and validation sets\n",
    "valFiles, testFiles, valLabels, testLabels = train_test_split(\n",
    "    remFiles, remLabels, test_size=0.5, shuffle = True)\n",
    "\n",
    "# Check that ratios are correct and both files and Labels have equal amounts\n",
    "print(trainFiles.shape, valFiles.shape, testFiles.shape)\n",
    "print(trainLabels.shape, valLabels.shape, testLabels.shape)"
   ]
  },
  {
   "cell_type": "markdown",
   "metadata": {},
   "source": [
    "# Crop sentences into patches"
   ]
  },
  {
   "cell_type": "markdown",
   "metadata": {
    "colab_type": "text",
    "id": "S5-nRNWFjOAc"
   },
   "source": [
    "Couple commonly used constants defined.\n",
    "The `batch size` the model uses is 16. It means that the model is trained in 16 image sample batches. Batch size is one of many `hyperparameters` and it is considered that batch size should be in range of 16-128.\n",
    "\n",
    "Using batches makes the training faster and more accurate as weights are updated after each batch. Also batches are necessary as the whole dataset wouldn't fit in the memory.\n",
    "\n",
    "Other hyperparameters are: \n",
    "\n",
    "`learning rate` Might be the most important hyperparameter. The amount the backpropagation updates the weights during training is referred as the learning rate. We are using Adam to adapt the learning rate.   Adam is in the model design part.\n",
    "\n",
    "`number of epochs` This depends on every data set. Trial and error is the way to go. It is also possible to use high number of epochs and let `EarlyStopping()` function to monitor some percentage.\n",
    "\n",
    "`activation function` We use ReLU to introduce nonlinearity.\n",
    "\n",
    "`number of hidden layers`. Usually good to add layers until the test error improves. Though every layer makes the model more expensive to train.\n",
    "\n",
    "`weight initialization`. Usually weights are initialized with random number to avoid dead nodes.\n",
    "\n",
    "`Dropout value` Regular value is half (0.5) of the nodes. Dropout shuts off random nodes for avoiding overfitting."
   ]
  },
  {
   "cell_type": "code",
   "execution_count": 17,
   "metadata": {
    "colab": {},
    "colab_type": "code",
    "id": "7UXwDegTjOAd"
   },
   "outputs": [],
   "source": [
    "CROP_SIZE = 113\n",
    "NUM_LABELS = 50\n",
    "BATCH_SIZE = 16"
   ]
  },
  {
   "cell_type": "markdown",
   "metadata": {},
   "source": [
    "The model is designed to take identical sized patches of images. First ``samplePreProcessor`` function takes every sentence and resizes the sentence's height to 113 pixels. \n",
    "\n",
    "Secondly the resized sentences are cropped vertically to create squares of 113x113 pixels. The cropping is random so inside the sample image is a random part of the sentence."
   ]
  },
  {
   "cell_type": "code",
   "execution_count": 18,
   "metadata": {
    "colab": {},
    "colab_type": "code",
    "id": "ckp7A0ZbjOAi"
   },
   "outputs": [],
   "source": [
    "from sklearn.utils import shuffle\n",
    "from PIL import Image\n",
    "import random\n",
    "\n",
    "def samplePreProcessor(sample, label, sampleRatio):\n",
    "    # Get current image details\n",
    "    img = Image.open(sample)\n",
    "    imgWidth = img.size[0]\n",
    "    imgHeight = img.size[1]\n",
    "\n",
    "    # Resize and maintain the original aspect ratio.\n",
    "    heightFac = CROP_SIZE / imgHeight\n",
    "    size = (int(imgWidth * heightFac), CROP_SIZE)\n",
    "    newImg = img.resize((size), Image.ANTIALIAS)\n",
    "    newImgWidth = newImg.size[0]\n",
    "    newImgHeight = newImg.size[1]\n",
    "\n",
    "    # Calculate how many sample images are cropped from a sentence\n",
    "    XCoord = list(range(0, newImgWidth - CROP_SIZE))\n",
    "    numCrops = int(len(XCoord) * sampleRatio)\n",
    "    randXCoord = random.sample(XCoord, numCrops)\n",
    "    \n",
    "    # Create 113x113 sized sample images by cropping\n",
    "    # Also map sample to its writer (label in the code below)\n",
    "    images = []\n",
    "    labels = []\n",
    "    for x in randXCoord:\n",
    "        imgCrop = newImg.crop((x, 0, x + CROP_SIZE, CROP_SIZE))\n",
    "        # Transform image to an array of numbers\n",
    "        images.append(np.asarray(imgCrop))\n",
    "        labels.append(label)\n",
    "\n",
    "    return (images, labels)"
   ]
  },
  {
   "cell_type": "markdown",
   "metadata": {},
   "source": [
    "# Example of how the cropping happens"
   ]
  },
  {
   "cell_type": "markdown",
   "metadata": {},
   "source": [
    "This part uses an example to visualize step by step what ``samplePreProcessor`` function does. \n",
    "\n",
    "Here is an example of a single sentence which the function will operate with:"
   ]
  },
  {
   "cell_type": "code",
   "execution_count": 23,
   "metadata": {},
   "outputs": [
    {
     "name": "stdout",
     "output_type": "stream",
     "text": [
      "Label:  0\n"
     ]
    },
    {
     "data": {
      "image/png": "[encoded data removed]",
      "text/plain": [
       "<Figure size 720x720 with 1 Axes>"
      ]
     },
     "metadata": {
      "needs_background": "light"
     },
     "output_type": "display_data"
    }
   ],
   "source": [
    "sample, label = trainFiles[0], trainLabels[0]\n",
    "img = mpimg.imread(sample)\n",
    "plt.figure(figsize = (10,10))\n",
    "plt.imshow(img, cmap ='gray')\n",
    "print(\"Label: \", label)"
   ]
  },
  {
   "cell_type": "markdown",
   "metadata": {},
   "source": [
    "Time to use the chosen sentence with ``samplePreProcessor`` function:"
   ]
  },
  {
   "cell_type": "code",
   "execution_count": 24,
   "metadata": {},
   "outputs": [],
   "source": [
    "images, labels = samplePreProcessor(sample, label, 0.1)"
   ]
  },
  {
   "cell_type": "markdown",
   "metadata": {},
   "source": [
    "``samplePreProcessor`` returns ``labels`` and ``images``. \n",
    "\n",
    "``label`` is the original sentence's writer id which is given to each of the random image patches. In this example the label (or writer id) is `0`.\n",
    "\n",
    "`images` are the actual sample patches. `samplePreProcessor` created 116 patches out of that single sentence. Here is couple of them."
   ]
  },
  {
   "cell_type": "code",
   "execution_count": 26,
   "metadata": {},
   "outputs": [
    {
     "name": "stdout",
     "output_type": "stream",
     "text": [
      "116\n"
     ]
    },
    {
     "data": {
      "text/plain": [
       "<matplotlib.image.AxesImage at 0x7f73a9d93278>"
      ]
     },
     "execution_count": 26,
     "metadata": {},
     "output_type": "execute_result"
    },
    {
     "data": {
      "image/png": "[encoded data removed]",
      "text/plain": [
       "<Figure size 432x288 with 1 Axes>"
      ]
     },
     "metadata": {
      "needs_background": "light"
     },
     "output_type": "display_data"
    }
   ],
   "source": [
    "print(len(images))\n",
    "plt.imshow(images[0], cmap ='gray')"
   ]
  },
  {
   "cell_type": "code",
   "execution_count": 27,
   "metadata": {},
   "outputs": [
    {
     "data": {
      "text/plain": [
       "<matplotlib.image.AxesImage at 0x7f73a9d23cc0>"
      ]
     },
     "execution_count": 27,
     "metadata": {},
     "output_type": "execute_result"
    },
    {
     "data": {
      "image/png": "[encoded data removed]",
      "text/plain": [
       "<Figure size 432x288 with 1 Axes>"
      ]
     },
     "metadata": {
      "needs_background": "light"
     },
     "output_type": "display_data"
    }
   ],
   "source": [
    "plt.imshow(images[1], cmap ='gray')"
   ]
  },
  {
   "cell_type": "markdown",
   "metadata": {},
   "source": [
    "# Generator function"
   ]
  },
  {
   "cell_type": "markdown",
   "metadata": {},
   "source": [
    "Think of the generator function as an iterator. An iterator loops through the elements of an object, like items in a list or keys in a dictionary. Generator ``yields`` batches of cropped images with each iteration.\n",
    "\n",
    "Big benefit of using generators is saving memory. And so generators are used with applications that need a lot of memory.\n",
    "\n",
    "In the case of this project, when the CNN is trained with the image patches the GPUs would get memory errors if all of the sample images were uploaded on the memory. \n",
    "\n",
    "Using a generator, you only need to keep the images for your training batch in memory as opposed to all your training images.\n",
    "\n",
    "This article from Shervine Amidi was a great help https://stanford.edu/~shervine/blog/keras-how-to-generate-data-on-the-fly\n",
    "\n",
    "`Flattening` helps to reshape the input data to fit in the convolution layers.\n",
    "`One-hot encode` is used with categorization problems. It converts the `writer ID` array into a table so neural network can't find any imaginary connections between the ID numbers.\n"
   ]
  },
  {
   "cell_type": "code",
   "execution_count": 28,
   "metadata": {
    "colab": {
     "base_uri": "https://localhost:8080/",
     "height": 34
    },
    "colab_type": "code",
    "id": "QpwonMROjOAm",
    "outputId": "66054b7c-046c-447d-c284-90ead6a2d4d0"
   },
   "outputs": [
    {
     "name": "stderr",
     "output_type": "stream",
     "text": [
      "Using TensorFlow backend.\n"
     ]
    }
   ],
   "source": [
    "import operator\n",
    "from functools import reduce\n",
    "from keras.utils import to_categorical\n",
    "\n",
    "def generate(samples, labels, batchSize, sampleRatio):\n",
    "    while 1: \n",
    "        for offset in range(0, len(samples), batchSize):\n",
    "            batchSamples = samples[offset:(offset + batchSize)]\n",
    "            batchLabels = labels[offset:(offset + batchSize)]\n",
    "            \n",
    "            # Create batches\n",
    "            augBatchSamples = []\n",
    "            augBatchLabels = []\n",
    "            for i in range(len(batchSamples)):\n",
    "                sample = batchSamples[i]\n",
    "                label = batchLabels[i]\n",
    "                augSamples, augLabels = samplePreProcessor(sample, label, sampleRatio)\n",
    "                augBatchSamples.append(augSamples)\n",
    "                augBatchLabels.append(augLabels)\n",
    "\n",
    "            # Flatten out samples and labels\n",
    "            augBatchSamples = reduce(operator.add, augBatchSamples)\n",
    "            augBatchLabels = reduce(operator.add, augBatchLabels)\n",
    "            \n",
    "            # Reshape input format to fit in the model\n",
    "            trainFiles = np.array(augBatchSamples)\n",
    "            trainFiles = trainFiles.reshape(trainFiles.shape[0], CROP_SIZE, CROP_SIZE, 1)\n",
    "\n",
    "            # input to float and normalize\n",
    "            trainFiles = trainFiles.astype('float32')\n",
    "            trainFiles = trainFiles / 255\n",
    "\n",
    "            # One hot encode trainLabels\n",
    "            # This will make a table from the array of labels.\n",
    "            # It is to make sure the CNN does not try to find features from them\n",
    "            trainLabels = np.array(augBatchLabels)\n",
    "            trainLabels = to_categorical(trainLabels, NUM_LABELS)\n",
    "\n",
    "            yield trainFiles, trainLabels"
   ]
  },
  {
   "cell_type": "markdown",
   "metadata": {
    "colab_type": "text",
    "id": "xeHRbGh_jOAo"
   },
   "source": [
    "The generator function can be now used with all three dataset parts."
   ]
  },
  {
   "cell_type": "code",
   "execution_count": 29,
   "metadata": {
    "colab": {},
    "colab_type": "code",
    "id": "l9dr2pogjOAp"
   },
   "outputs": [],
   "source": [
    "trainGenerator = generate(trainFiles, trainLabels, BATCH_SIZE, 0.3)\n",
    "valGenerator = generate(valFiles, valLabels, BATCH_SIZE, 0.3)\n",
    "testGenerator = generate(testFiles, testLabels, BATCH_SIZE, 0.1)"
   ]
  },
  {
   "cell_type": "code",
   "execution_count": 30,
   "metadata": {
    "colab": {
     "base_uri": "https://localhost:8080/",
     "height": 34
    },
    "colab_type": "code",
    "id": "KeHK6NkTjOAr",
    "outputId": "cccba7d3-41fe-4924-8259-57d209c216d9"
   },
   "outputs": [
    {
     "data": {
      "text/plain": [
       "<tensorflow.python.client.session.Session at 0x7f73a9ccfda0>"
      ]
     },
     "execution_count": 30,
     "metadata": {},
     "output_type": "execute_result"
    }
   ],
   "source": [
    "import tensorflow as tf\n",
    "\n",
    "config = tf.ConfigProto()\n",
    "tf.Session(config = config)"
   ]
  },
  {
   "cell_type": "code",
   "execution_count": 31,
   "metadata": {
    "colab": {},
    "colab_type": "code",
    "id": "Fvu-0oV4jOAu"
   },
   "outputs": [],
   "source": [
    "def resize_image(img):\n",
    "    size = round(CROP_SIZE/2)\n",
    "    return tf.image.resize_images(img, [size, size])"
   ]
  },
  {
   "cell_type": "markdown",
   "metadata": {},
   "source": [
    "# CNN model"
   ]
  },
  {
   "cell_type": "markdown",
   "metadata": {},
   "source": [
    "Here is the 10-layer CNN model. The code describes the shape of the model and it's components. After building the code, it outputs a table of the model below. The total amount of parameters is the sum of all weights and biases. Check it out!\n",
    "\n",
    "I have `CNN` as the main model, `ReLu` as the activation function instead of sigmoid. As this is a categorization problem (as in calculating probability of a sentence belonging to a single writer from the pool of 50) it makes sense to use softmax activation function as the final layer.\n",
    "\n",
    "Conventionally after every convolution layer a non-linearity is applied. For example a non-linear activation function. `ReLu activation` is usually used with `CNN` as it is computationally more efficient than sigmoid, without sacrifising much accuracy.\n",
    "\n",
    "`Sequential model` makes a linear stack of layers. It is the simplest CNN model. The are also parallel models of CNN. \n",
    "\n",
    "`Convolution layer` finds features from the source image by blurring, sharpening, edge detection, noise reduction and with other operations.\n",
    "\n",
    "`Pooling layer` reduces the image dimensionality without losing important features or patterns.\n",
    "\n",
    "`Flattening layer` prepares the pooled feature map to be inserted in a regular neural network layer.\n",
    "Visual about flattening: https://www.superdatascience.com/blogs/convolutional-neural-networks-cnn-step-3-flattening\n",
    "\n",
    "`Dropout` prevents overfitting. A fully connected layer takes most of the parameters (if you check the table below the first dense layer consists of 590,000 of total ~872,000 parameters). During training the model's neurons develop co-dependency among each other, which leads to overfitting. \n",
    "Dropout layer shuts down randomly selected nodes, an forces the neural network to learn more robust features.  Usual practice is to have half of the nodes on one layer turned offline. Great article about overfitting and dropout: https://www.datascience.us/neural-net-dropout-dealing-overfitting/\n",
    "\n",
    "`Accuracy` (acc) is the accuracy of a batch of training data. It tells how the model is progressing in terms of its training. `Validation accuracy` (val_acc) is the accuracy of a batch of a validation data (data that have never been 'seen' by the model). Validation accuracy can be used as an evaluation of the quality of the model. How the model is predicting the never before seen data.\n",
    "`Training loss` is the average of the losses over each batch of training data. The last accuracy value is about 86%, and the validation accuracy is 90%. 90% is the probable accuracy on new data.\n",
    "\n",
    "`categorical cross entropy` is usually used with categorization problems. It compares the predicted label and true label, calculating the loss.\n",
    "\n",
    "`Adam` is a "
   ]
  },
  {
   "cell_type": "code",
   "execution_count": 32,
   "metadata": {
    "colab": {
     "base_uri": "https://localhost:8080/",
     "height": 867
    },
    "colab_type": "code",
    "id": "mR01wBGijOAx",
    "outputId": "b8f4c4d1-6599-4569-d08e-2d48a060f47a"
   },
   "outputs": [
    {
     "name": "stdout",
     "output_type": "stream",
     "text": [
      "_________________________________________________________________\n",
      "Layer (type)                 Output Shape              Param #   \n",
      "=================================================================\n",
      "zero_padding2d_1 (ZeroPaddin (None, 115, 115, 1)       0         \n",
      "_________________________________________________________________\n",
      "lambda_1 (Lambda)            (None, 56, 56, 1)         0         \n",
      "_________________________________________________________________\n",
      "conv1 (Conv2D)               (None, 28, 28, 32)        832       \n",
      "_________________________________________________________________\n",
      "activation_1 (Activation)    (None, 28, 28, 32)        0         \n",
      "_________________________________________________________________\n",
      "pool1 (MaxPooling2D)         (None, 14, 14, 32)        0         \n",
      "_________________________________________________________________\n",
      "conv2 (Conv2D)               (None, 14, 14, 64)        18496     \n",
      "_________________________________________________________________\n",
      "activation_2 (Activation)    (None, 14, 14, 64)        0         \n",
      "_________________________________________________________________\n",
      "pool2 (MaxPooling2D)         (None, 7, 7, 64)          0         \n",
      "_________________________________________________________________\n",
      "conv3 (Conv2D)               (None, 7, 7, 128)         73856     \n",
      "_________________________________________________________________\n",
      "activation_3 (Activation)    (None, 7, 7, 128)         0         \n",
      "_________________________________________________________________\n",
      "pool3 (MaxPooling2D)         (None, 3, 3, 128)         0         \n",
      "_________________________________________________________________\n",
      "flatten_1 (Flatten)          (None, 1152)              0         \n",
      "_________________________________________________________________\n",
      "dropout_1 (Dropout)          (None, 1152)              0         \n",
      "_________________________________________________________________\n",
      "dense1 (Dense)               (None, 512)               590336    \n",
      "_________________________________________________________________\n",
      "activation_4 (Activation)    (None, 512)               0         \n",
      "_________________________________________________________________\n",
      "dropout_2 (Dropout)          (None, 512)               0         \n",
      "_________________________________________________________________\n",
      "dense2 (Dense)               (None, 256)               131328    \n",
      "_________________________________________________________________\n",
      "activation_5 (Activation)    (None, 256)               0         \n",
      "_________________________________________________________________\n",
      "dropout_3 (Dropout)          (None, 256)               0         \n",
      "_________________________________________________________________\n",
      "output (Dense)               (None, 50)                12850     \n",
      "_________________________________________________________________\n",
      "activation_6 (Activation)    (None, 50)                0         \n",
      "=================================================================\n",
      "Total params: 827,698\n",
      "Trainable params: 827,698\n",
      "Non-trainable params: 0\n",
      "_________________________________________________________________\n",
      "None\n"
     ]
    }
   ],
   "source": [
    "from keras.models import Sequential\n",
    "from keras.layers import Dense, Dropout, Flatten, Lambda, Activation\n",
    "from keras.layers.convolutional import Convolution2D, ZeroPadding2D, MaxPooling2D\n",
    "from keras.optimizers import Adam\n",
    "from keras import metrics\n",
    "\n",
    "model = Sequential()\n",
    "\n",
    "# Define network input shape\n",
    "model.add(ZeroPadding2D((1, 1), input_shape=(CROP_SIZE, CROP_SIZE, 1)))\n",
    "# Resize images to allow for easy computation\n",
    "model.add(Lambda(resize_image)) \n",
    "\n",
    "# CNN model\n",
    "# 1. convolution layer with ReLU activation\n",
    "model.add(Convolution2D(filters= 32, kernel_size =(5,5), strides= (2, 2), padding='same', name='conv1'))\n",
    "model.add(Activation('relu'))\n",
    "\n",
    "# MaxPooling\n",
    "model.add(MaxPooling2D(pool_size=(2, 2), strides=(2, 2), name='pool1'))\n",
    "\n",
    "# 2. convolution layer\n",
    "model.add(Convolution2D(filters= 64, kernel_size =(3, 3), strides= (1, 1), padding='same', name='conv2'))\n",
    "model.add(Activation('relu'))\n",
    "\n",
    "# MaxPooling\n",
    "model.add(MaxPooling2D(pool_size=(2, 2), strides=(2, 2), name='pool2'))\n",
    "\n",
    "# 3. convolution layer\n",
    "model.add(Convolution2D(filters= 128, kernel_size =(3, 3), strides= (1, 1), padding='same', name='conv3'))\n",
    "model.add(Activation('relu'))\n",
    "\n",
    "# MaxPooling\n",
    "model.add(MaxPooling2D(pool_size=(2, 2), strides=(2, 2), name='pool3'))\n",
    "\n",
    "# Flatten\n",
    "model.add(Flatten())\n",
    "model.add(Dropout(0.5))\n",
    "\n",
    "# Dense aka regular layer of neural network.\n",
    "model.add(Dense(512, name='dense1'))\n",
    "model.add(Activation('relu'))\n",
    "model.add(Dropout(0.5))\n",
    "\n",
    "# Dense \n",
    "model.add(Dense(256, name='dense2'))\n",
    "model.add(Activation('relu'))\n",
    "model.add(Dropout(0.5))\n",
    "\n",
    "# Softmax activation since the output is within 50 classes (50 different writers)\n",
    "model.add(Dense(NUM_LABELS, name='output'))\n",
    "model.add(Activation('softmax'))\n",
    "\n",
    "# Using categorical crossentropy and adam.\n",
    "model.compile(loss='categorical_crossentropy', optimizer=Adam(), metrics=['acc'])\n",
    "\n",
    "print(model.summary())"
   ]
  },
  {
   "cell_type": "markdown",
   "metadata": {},
   "source": [
    "The model is trained for 40 epochs. One `epoch` is one full training cycle of the whole training set. After the weights have been set, another epoch begins. \n",
    "\n",
    "We can't be sure how many epochs is enough for good accuracy. I've trained the same model with 20 epochs and the accuracy afterwards on testing set was ~80.34%. This time the training time is doubled to see how much it will improve. The accuracy is easier to be judged after seeing all data points. If validation and training set accuracy start to fluctuate back and forth, it is a symptom of overfitting.\n",
    "\n",
    "The model obtained after a single epoch is saved to the `./checkpoints` folder.\n",
    "\n",
    "Keras has fit() and fit_generator().\n",
    "fit() is used with small data set as it is passed whole into the function.\n",
    "fit_generator() the dataset comes from generator that was built earlier. Generator is used to avoid memory issues as it gives data set in batches.\n",
    "How to use fit_generator https://keras.io/models/sequential/#fit_generator"
   ]
  },
  {
   "cell_type": "code",
   "execution_count": 22,
   "metadata": {
    "colab": {
     "base_uri": "https://localhost:8080/",
     "height": 1397
    },
    "colab_type": "code",
    "id": "AWcVj_1WjOAy",
    "outputId": "5fb3ea7c-b304-40f3-ad21-ab2b06aad5a1",
    "scrolled": false
   },
   "outputs": [
    {
     "name": "stdout",
     "output_type": "stream",
     "text": [
      "Epoch 1/40\n",
      "196/196 [==============================] - 443s 2s/step - loss: 3.5442 - acc: 0.1665 - val_loss: 3.1511 - val_acc: 0.2480\n",
      "\n",
      "Epoch 00001: saving model to ./checkpoints/check_01_3.1511.hdf5\n",
      "Epoch 2/40\n",
      "196/196 [==============================] - 146s 742ms/step - loss: 2.9741 - acc: 0.2246 - val_loss: 2.5199 - val_acc: 0.3031\n",
      "\n",
      "Epoch 00002: saving model to ./checkpoints/check_02_2.5199.hdf5\n",
      "Epoch 3/40\n",
      "196/196 [==============================] - 146s 746ms/step - loss: 2.5296 - acc: 0.2957 - val_loss: 2.2370 - val_acc: 0.3558\n",
      "\n",
      "Epoch 00003: saving model to ./checkpoints/check_03_2.2370.hdf5\n",
      "Epoch 4/40\n",
      "196/196 [==============================] - 144s 737ms/step - loss: 2.2046 - acc: 0.3624 - val_loss: 1.9015 - val_acc: 0.4326\n",
      "\n",
      "Epoch 00004: saving model to ./checkpoints/check_04_1.9015.hdf5\n",
      "Epoch 5/40\n",
      "196/196 [==============================] - 144s 737ms/step - loss: 1.9714 - acc: 0.4149 - val_loss: 1.6770 - val_acc: 0.4984\n",
      "\n",
      "Epoch 00005: saving model to ./checkpoints/check_05_1.6770.hdf5\n",
      "Epoch 6/40\n",
      "196/196 [==============================] - 145s 741ms/step - loss: 1.7739 - acc: 0.4637 - val_loss: 1.5425 - val_acc: 0.5279\n",
      "\n",
      "Epoch 00006: saving model to ./checkpoints/check_06_1.5425.hdf5\n",
      "Epoch 7/40\n",
      "196/196 [==============================] - 144s 737ms/step - loss: 1.6169 - acc: 0.5053 - val_loss: 1.4251 - val_acc: 0.5568\n",
      "\n",
      "Epoch 00007: saving model to ./checkpoints/check_07_1.4251.hdf5\n",
      "Epoch 8/40\n",
      "196/196 [==============================] - 145s 740ms/step - loss: 1.5006 - acc: 0.5375 - val_loss: 1.2791 - val_acc: 0.6004\n",
      "\n",
      "Epoch 00008: saving model to ./checkpoints/check_08_1.2791.hdf5\n",
      "Epoch 9/40\n",
      "196/196 [==============================] - 144s 736ms/step - loss: 1.3791 - acc: 0.5730 - val_loss: 1.0976 - val_acc: 0.6612\n",
      "\n",
      "Epoch 00009: saving model to ./checkpoints/check_09_1.0976.hdf5\n",
      "Epoch 10/40\n",
      "196/196 [==============================] - 144s 732ms/step - loss: 1.3172 - acc: 0.5938 - val_loss: 1.0323 - val_acc: 0.6875\n",
      "\n",
      "Epoch 00010: saving model to ./checkpoints/check_10_1.0323.hdf5\n",
      "Epoch 11/40\n",
      "196/196 [==============================] - 145s 739ms/step - loss: 1.2524 - acc: 0.6134 - val_loss: 1.0374 - val_acc: 0.6830\n",
      "\n",
      "Epoch 00011: saving model to ./checkpoints/check_11_1.0374.hdf5\n",
      "Epoch 12/40\n",
      "196/196 [==============================] - 145s 742ms/step - loss: 1.1874 - acc: 0.6342 - val_loss: 1.0595 - val_acc: 0.6691\n",
      "\n",
      "Epoch 00012: saving model to ./checkpoints/check_12_1.0595.hdf5\n",
      "Epoch 13/40\n",
      "196/196 [==============================] - 145s 738ms/step - loss: 1.1269 - acc: 0.6521 - val_loss: 1.0414 - val_acc: 0.6716\n",
      "\n",
      "Epoch 00013: saving model to ./checkpoints/check_13_1.0414.hdf5\n",
      "Epoch 14/40\n",
      "196/196 [==============================] - 145s 739ms/step - loss: 1.0768 - acc: 0.6777 - val_loss: 0.9340 - val_acc: 0.7127\n",
      "\n",
      "Epoch 00014: saving model to ./checkpoints/check_14_0.9340.hdf5\n",
      "Epoch 15/40\n",
      "196/196 [==============================] - 145s 739ms/step - loss: 1.0362 - acc: 0.6958 - val_loss: 0.8938 - val_acc: 0.7309\n",
      "\n",
      "Epoch 00015: saving model to ./checkpoints/check_15_0.8938.hdf5\n",
      "Epoch 16/40\n",
      "196/196 [==============================] - 145s 739ms/step - loss: 0.9982 - acc: 0.7112 - val_loss: 0.8414 - val_acc: 0.7529\n",
      "\n",
      "Epoch 00016: saving model to ./checkpoints/check_16_0.8414.hdf5\n",
      "Epoch 17/40\n",
      "196/196 [==============================] - 145s 738ms/step - loss: 0.9579 - acc: 0.7142 - val_loss: 0.8593 - val_acc: 0.7475\n",
      "\n",
      "Epoch 00017: saving model to ./checkpoints/check_17_0.8593.hdf5\n",
      "Epoch 18/40\n",
      "196/196 [==============================] - 144s 736ms/step - loss: 0.9212 - acc: 0.7356 - val_loss: 0.8136 - val_acc: 0.7628\n",
      "\n",
      "Epoch 00018: saving model to ./checkpoints/check_18_0.8136.hdf5\n",
      "Epoch 19/40\n",
      "196/196 [==============================] - 143s 732ms/step - loss: 0.8918 - acc: 0.7550 - val_loss: 0.7447 - val_acc: 0.7808\n",
      "\n",
      "Epoch 00019: saving model to ./checkpoints/check_19_0.7447.hdf5\n",
      "Epoch 20/40\n",
      "196/196 [==============================] - 143s 730ms/step - loss: 0.8570 - acc: 0.7756 - val_loss: 0.7040 - val_acc: 0.7915\n",
      "\n",
      "Epoch 00020: saving model to ./checkpoints/check_20_0.7040.hdf5\n",
      "Epoch 21/40\n",
      "196/196 [==============================] - 144s 2s/step - loss: 0.8130 - acc: 0.7906 - val_loss: 0.6611 - val_acc: 0.8013\n",
      "\n",
      "Epoch 00021: saving model to ./checkpoints/check_21_0.7040.hdf5\n",
      "Epoch 22/40\n",
      "196/196 [==============================] - 143s 2s/step - loss: 0.7742 - acc: 0.7966 - val_loss: 0.6211 - val_acc: 0.8180\n",
      "\n",
      "Epoch 00022: saving model to ./checkpoints/check_22_3.1511.hdf5\n",
      "Epoch 23/40\n",
      "196/196 [==============================] - 149s 742ms/step - loss: 0.7441 - acc: 0.8026 - val_loss: 0.5919 - val_acc: 0.8231\n",
      "\n",
      "Epoch 00023: saving model to ./checkpoints/check_23_2.5199.hdf5\n",
      "Epoch 24/40\n",
      "196/196 [==============================] - 143s 746ms/step - loss: 0.7196 - acc: 0.8087 - val_loss: 0.5670 - val_acc: 0.8358\n",
      "\n",
      "Epoch 00024: saving model to ./checkpoints/check_24_2.2370.hdf5\n",
      "Epoch 25/40\n",
      "196/196 [==============================] - 146s 737ms/step - loss: 0.6946 - acc: 0.8144 - val_loss: 0.5315 - val_acc: 0.8426\n",
      "\n",
      "Epoch 00025: saving model to ./checkpoints/check_25_1.9015.hdf5\n",
      "Epoch 26/40\n",
      "196/196 [==============================] - 141s 737ms/step - loss: 0.6714 - acc: 0.8209 - val_loss: 0.5070 - val_acc: 0.8564\n",
      "\n",
      "Epoch 00026: saving model to ./checkpoints/check_26_1.6770.hdf5\n",
      "Epoch 27/40\n",
      "196/196 [==============================] - 149s 741ms/step - loss: 0.6539 - acc: 0.8267 - val_loss: 0.48425 - val_acc: 0.8635\n",
      "\n",
      "Epoch 00027: saving model to ./checkpoints/check_27_1.5425.hdf5\n",
      "Epoch 28/40\n",
      "196/196 [==============================] - 144s 737ms/step - loss: 0.6369 - acc: 0.8303 - val_loss: 0.4651 - val_acc: 0.8588\n",
      "\n",
      "Epoch 00028: saving model to ./checkpoints/check_28_1.4251.hdf5\n",
      "Epoch 29/40\n",
      "196/196 [==============================] - 147s 740ms/step - loss: 0.6106 - acc: 0.8365 - val_loss: 0.4491 - val_acc: 0.8674\n",
      "\n",
      "Epoch 00029: saving model to ./checkpoints/check_29_1.2791.hdf5\n",
      "Epoch 30/40\n",
      "196/196 [==============================] - 148s 736ms/step - loss: 0.5991 - acc: 0.8430 - val_loss: 0.4276 - val_acc: 0.8712\n",
      "\n",
      "Epoch 00030: saving model to ./checkpoints/check_30_1.0976.hdf5\n",
      "Epoch 31/40\n",
      "196/196 [==============================] - 143s 732ms/step - loss: 0.5872 - acc: 0.8508 - val_loss: 0.4023 - val_acc: 0.8775\n",
      "\n",
      "Epoch 00031: saving model to ./checkpoints/check_31_1.0323.hdf5\n",
      "Epoch 32/40\n",
      "196/196 [==============================] - 142s 739ms/step - loss: 0.5724 - acc: 0.8471 - val_loss: 0.4074 - val_acc: 0.8620\n",
      "\n",
      "Epoch 00032: saving model to ./checkpoints/check_32_1.0374.hdf5\n",
      "Epoch 33/40\n",
      "196/196 [==============================] - 149s 742ms/step - loss: 0.5574 - acc: 0.8535 - val_loss: 0.3895 - val_acc: 0.8791\n",
      "\n",
      "Epoch 00033: saving model to ./checkpoints/check_33_1.0595.hdf5\n",
      "Epoch 34/40\n",
      "196/196 [==============================] - 142s 738ms/step - loss: 0.5469 - acc: 0.8603 - val_loss: 0.3714 - val_acc: 0.8666\n",
      "\n",
      "Epoch 00034: saving model to ./checkpoints/check_34_1.0414.hdf5\n",
      "Epoch 35/40\n",
      "196/196 [==============================] - 143s 739ms/step - loss: 0.5268 - acc: 0.8677 - val_loss: 0.3640 - val_acc: 0.8797\n",
      "\n",
      "Epoch 00035: saving model to ./checkpoints/check_35_0.9340.hdf5\n",
      "Epoch 36/40\n",
      "196/196 [==============================] - 144s 739ms/step - loss: 0.5162 - acc: 0.8713 - val_loss: 0.3438 - val_acc: 0.8979\n",
      "\n",
      "Epoch 00036: saving model to ./checkpoints/check_36_0.8938.hdf5\n",
      "Epoch 37/40\n",
      "196/196 [==============================] - 145s 739ms/step - loss: 0.4982 - acc: 0.8750 - val_loss: 0.3314 - val_acc: 0.8929\n",
      "\n",
      "Epoch 00037: saving model to ./checkpoints/check_37_0.8414.hdf5\n",
      "Epoch 38/40\n",
      "196/196 [==============================] - 141s 738ms/step - loss: 0.4909 - acc: 0.8804 - val_loss: 0.3293 - val_acc: 0.8907\n",
      "\n",
      "Epoch 00038: saving model to ./checkpoints/check_38_0.8593.hdf5\n",
      "Epoch 39/40\n",
      "196/196 [==============================] - 146s 736ms/step - loss: 0.4812 - acc: 0.8836 - val_loss: 0.3136 - val_acc: 0.9068\n",
      "\n",
      "Epoch 00039: saving model to ./checkpoints/check_39_0.8136.hdf5\n",
      "Epoch 40/40\n",
      "196/196 [==============================] - 144s 732ms/step - loss: 0.4778 - acc: 0.8850 - val_loss: 0.3147 - val_acc: 0.9075\n",
      "\n",
      "Epoch 00040: saving model to ./checkpoints/check_40_0.7040.hdf5\n"
     ]
    }
   ],
   "source": [
    "from keras.callbacks import ModelCheckpoint\n",
    "\n",
    "# Create directory to save checkpoints at\n",
    "checkpointsPath = \"./checkpoints\"\n",
    "if not os.path.exists(checkpointsPath):\n",
    "    os.makedirs(checkpointsPath)\n",
    "    \n",
    "# Save model after every epoch using checkpoints\n",
    "createCheckpoint = ModelCheckpoint(\n",
    "    filepath = \"./checkpoints/check_{epoch:02d}_{val_loss:.4f}.hdf5\",\n",
    "    verbose = 1,\n",
    "    save_best_only = False\n",
    ")\n",
    "\n",
    "# Use generators \n",
    "# How to use fit_generator https://keras.io/models/sequential/#fit_generator\n",
    "# Keras has fit() and fit_generator()\n",
    "# We use fit_generator because to avoid memory issues\n",
    "history_object = model.fit_generator(\n",
    "    train_generator, \n",
    "    steps_per_epoch = round(len(trainFiles) / BATCH_SIZE),\n",
    "    validation_data = valGenerator,\n",
    "    validation_steps = round(len(valFiles) / BATCH_SIZE),\n",
    "    epochs = 40,\n",
    "    verbose = 1,\n",
    "    callbacks = [create_checkpoint]\n",
    ")"
   ]
  },
  {
   "cell_type": "markdown",
   "metadata": {},
   "source": [
    "Inside the 40 epochs alternate training and validation accuracy. Validation accuracy seems to be always a bit higher than the training set accuracy. \n",
    "\n",
    "`loss` is the loss on the training set. Calculated every epoch.\n",
    "\n",
    "`val_loss` is the loss on the validation set. Also calculated every epoch.\n",
    "\n",
    "The values of loss and val_loss are logarithmic and solely looking at the values won't give much insight. The model gets more accurate even when the loss values are that high. It means the prediction are going great, but the model itself is not confident about the predictions.\n",
    "\n",
    "To find out if the model is overfitting, cross-validation is used. "
   ]
  },
  {
   "cell_type": "markdown",
   "metadata": {
    "colab_type": "text",
    "id": "Wec61jeMjOA1"
   },
   "source": [
    "# Prediction accuracy\n",
    "\n",
    "After training the model can be found in \"checkpoints\" folder.\n",
    "The model_weights.hdf5 file can be used to predict the remaining test set:"
   ]
  },
  {
   "cell_type": "code",
   "execution_count": 26,
   "metadata": {
    "colab": {
     "base_uri": "https://localhost:8080/",
     "height": 34
    },
    "colab_type": "code",
    "id": "K-VNI527jOA1",
    "outputId": "0e05eb13-7c63-43b5-c433-4523e6ce28b3"
   },
   "outputs": [
    {
     "name": "stdout",
     "output_type": "stream",
     "text": [
      "Accuracy:  0.9096616865456947\n"
     ]
    }
   ],
   "source": [
    "modelWeightsPath = \"./checkpoints/model_weights.hdf5\"\n",
    "if modelWeightsPath:\n",
    "    model.loadWeights(modelWeightsPath)\n",
    "    scores = model.evaluate_generator(testGenerator, steps=round(len(testFiles)/BATCH_SIZE))\n",
    "    print(\"Accuracy: \", scores[1])\n",
    "else:\n",
    "    print(\"Set model weights file to load in the 'modelWeightsPath' variable\")"
   ]
  }
 ],
 "metadata": {
  "accelerator": "GPU",
  "colab": {
   "name": "solution.ipynb",
   "provenance": [],
   "toc_visible": true,
   "version": "0.3.2"
  },
  "kernelspec": {
   "display_name": "Python 3",
   "language": "python",
   "name": "python3"
  },
  "language_info": {
   "codemirror_mode": {
    "name": "ipython",
    "version": 3
   },
   "file_extension": ".py",
   "mimetype": "text/x-python",
   "name": "python",
   "nbconvert_exporter": "python",
   "pygments_lexer": "ipython3",
   "version": "3.7.1"
  }
 },
 "nbformat": 4,
 "nbformat_minor": 1
}
